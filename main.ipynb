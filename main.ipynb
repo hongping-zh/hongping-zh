{
 "cells": [
  {
   "cell_type": "code",
   "execution_count": 1,
   "metadata": {},
   "outputs": [
    {
     "name": "stdout",
     "output_type": "stream",
     "text": [
      "---------------------- SCIANN 0.7.0.1 ---------------------- \n",
      "For details, check out our review paper and the documentation at: \n",
      " +  \"https://www.sciencedirect.com/science/article/pii/S0045782520307374\", \n",
      " +  \"https://arxiv.org/abs/2005.08803\", \n",
      " +  \"https://www.sciann.com\". \n",
      "\n",
      " Need support or would like to contribute, please join sciann`s slack group: \n",
      " +  \"https://join.slack.com/t/sciann/shared_invite/zt-ne1f5jlx-k_dY8RGo3ZreDXwz0f~CeA\" \n",
      " \n",
      "TensorFlow Version: 2.8.4 \n",
      "Python Version: 3.8.18 (default, Sep 11 2023, 13:40:15) \n",
      "[GCC 11.2.0] \n",
      "\n"
     ]
    }
   ],
   "source": [
    "import scipy.io\n",
    "import numpy as np\n",
    "import sciann as sn"
   ]
  },
  {
   "cell_type": "code",
   "execution_count": 2,
   "metadata": {
    "is_executing": true
   },
   "outputs": [],
   "source": [
    "def PrepareData(num_data=5000, random=True):\n",
    "    data = scipy.io.loadmat('cylinder_nektar_wake.mat')\n",
    "\n",
    "    U_star = data['U_star']\n",
    "    P_star = data['p_star']\n",
    "    t_star = data['t']\n",
    "    X_star = data['X_star']\n",
    "\n",
    "    N = X_star.shape[0]\n",
    "    T = t_star.shape[0]\n",
    "\n",
    "    ##重新排列数据\n",
    "    XX = np.tile(X_star[:, 0:1], (1, T))  # N x T\n",
    "    YY = np.tile(X_star[:, 1:2], (1, T))  # N x T\n",
    "    TT = np.tile(t_star, (1, N)).T  # N x T\n",
    "\n",
    "    UU = U_star[:, 0, :]  # N x T\n",
    "    VV = U_star[:, 1, :]  # N x T\n",
    "    PP = P_star  # N x T\n",
    "\n",
    "    ##选取随机数据\n",
    "    if random:\n",
    "        idx = np.random.choice(N * T, num_data, replace=False)\n",
    "    else:\n",
    "        idx = np.arange(0, N * T)\n",
    "\n",
    "    x = XX.flatten()[idx, None]  # NT x 1\n",
    "    y = YY.flatten()[idx, None]  # NT x 1\n",
    "    t = TT.flatten()[idx, None]  # NT x 1\n",
    "\n",
    "    u = UU.flatten()[idx, None]  # NT x 1\n",
    "    v = VV.flatten()[idx, None]  # NT x 1\n",
    "    p = PP.flatten()[idx, None]  # NT x 1\n",
    "\n",
    "    return (x, y, t, u, v, p)"
   ]
  },
  {
   "cell_type": "code",
   "execution_count": 3,
   "metadata": {
    "collapsed": false,
    "jupyter": {
     "outputs_hidden": false
    }
   },
   "outputs": [],
   "source": [
    "x_train, y_train, t_train, u_train, v_train, p_train = PrepareData(5000, random=True)"
   ]
  },
  {
   "cell_type": "code",
   "execution_count": 4,
   "metadata": {},
   "outputs": [],
   "source": [
    "x = sn.Variable(\"x\", dtype='float64')\n",
    "y = sn.Variable(\"y\", dtype='float64')\n",
    "t = sn.Variable(\"t\", dtype='float64')\n",
    "\n",
    "P = sn.Functional(\"P\", [x, y, t], 8*[20], 'tanh')\n",
    "Psi = sn.Functional(\"Psi\", [x, y, t], 8*[20], 'tanh')"
   ]
  },
  {
   "cell_type": "code",
   "execution_count": 5,
   "metadata": {},
   "outputs": [],
   "source": [
    "lambda1 = sn.Parameter(np.random.rand(), inputs=[x,y,t], name=\"lambda1\")\n",
    "lambda2 = sn.Parameter(np.random.rand(), inputs=[x,y,t], name=\"lambda2\")"
   ]
  },
  {
   "cell_type": "code",
   "execution_count": 6,
   "metadata": {},
   "outputs": [],
   "source": [
    "u = sn.diff(Psi, y)\n",
    "v = -sn.diff(Psi, x)\n",
    "\n",
    "u_t = sn.diff(u, t)\n",
    "u_x = sn.diff(u, x)\n",
    "u_y = sn.diff(u, y)\n",
    "u_xx = sn.diff(u, x, order=2)\n",
    "u_yy = sn.diff(u, y, order=2)\n",
    "\n",
    "v_t = sn.diff(v, t)\n",
    "v_x = sn.diff(v, x)\n",
    "v_y = sn.diff(v, y)\n",
    "v_xx = sn.diff(v, x, order=2)\n",
    "v_yy = sn.diff(v, y, order=2)\n",
    "\n",
    "p_x = sn.diff(P, x)\n",
    "p_y = sn.diff(P, y)"
   ]
  },
  {
   "cell_type": "code",
   "execution_count": 7,
   "metadata": {},
   "outputs": [],
   "source": [
    "##数据\n",
    "d1 = sn.Data(u)\n",
    "d2 = sn.Data(v)\n",
    "d3 = sn.Data(P)\n",
    "\n",
    "##NS方程\n",
    "c1 = sn.Tie(-p_x, u_t+lambda1*(u*u_x+v*u_y)-lambda2*(u_xx+u_yy))\n",
    "c2 = sn.Tie(-p_y, v_t+lambda1*(u*v_x+v*v_y)-lambda2*(v_xx+v_yy))\n",
    "\n",
    "##连续性方程\n",
    "c3 = sn.Data(u_x + v_y)\n",
    "\n",
    "c4 = Psi*0.0"
   ]
  },
  {
   "cell_type": "code",
   "execution_count": 8,
   "metadata": {},
   "outputs": [
    {
     "name": "stdout",
     "output_type": "stream",
     "text": [
      "You must install pydot (`pip install pydot`) and install graphviz (see instructions at https://graphviz.gitlab.io/download/) for plot_model/model_to_dot to work.\n"
     ]
    }
   ],
   "source": [
    "model = sn.SciModel(\n",
    "    inputs=[x, y, t],\n",
    "    targets=[d1, d2, d3, c1, c2, c3, c4],\n",
    "    loss_func=\"mse\",\n",
    "    plot_to_file='NS-Model.png'\n",
    ")"
   ]
  },
  {
   "cell_type": "code",
   "execution_count": 9,
   "metadata": {
    "scrolled": true
   },
   "outputs": [
    {
     "name": "stdout",
     "output_type": "stream",
     "text": [
      "\n",
      "Total samples: 5000 \n",
      "Batch size: 5000 \n",
      "Total batches: 1 \n",
      "\n"
     ]
    },
    {
     "name": "stderr",
     "output_type": "stream",
     "text": [
      "2024-07-26 11:47:36.186335: I tensorflow/core/platform/cpu_feature_guard.cc:151] This TensorFlow binary is optimized with oneAPI Deep Neural Network Library (oneDNN) to use the following CPU instructions in performance-critical operations:  AVX2 AVX512F FMA\n",
      "To enable them in other operations, rebuild TensorFlow with the appropriate compiler flags.\n",
      "2024-07-26 11:47:41.875149: W tensorflow/core/common_runtime/gpu/gpu_bfc_allocator.cc:39] Overriding allow_growth setting because the TF_FORCE_GPU_ALLOW_GROWTH environment variable is set. Original config value was 0.\n",
      "2024-07-26 11:47:41.875212: I tensorflow/core/common_runtime/gpu/gpu_device.cc:1525] Created device /job:localhost/replica:0/task:0/device:GPU:0 with 22162 MB memory:  -> device: 0, name: B1.gpu.large, pci bus id: 0000:39:00.0, compute capability: 8.6\n"
     ]
    },
    {
     "name": "stdout",
     "output_type": "stream",
     "text": [
      "Epoch 1/100\n",
      "1/1 [==============================] - 28s 28s/step - batch: 0.0000e+00 - size: 5000.0000 - loss: 0.9443 - Grad__loss: 0.7577 - mul_loss: 0.0788 - P_loss: 0.0575 - sub_2_loss: 0.0256 - sub_4_loss: 0.0248 - add_7_loss: 2.6763e-34 - mul_12_loss: 0.0000e+00 - lr: 0.0010 - time: 28.3912\n",
      "Epoch 2/100\n",
      "1/1 [==============================] - 2s 2s/step - batch: 0.0000e+00 - size: 5000.0000 - loss: 0.8854 - Grad__loss: 0.7634 - mul_loss: 0.0773 - P_loss: 0.0220 - sub_2_loss: 0.0136 - sub_4_loss: 0.0091 - add_7_loss: 1.9736e-34 - mul_12_loss: 0.0000e+00 - lr: 0.0010 - time: 2.0057\n",
      "Epoch 3/100\n",
      "1/1 [==============================] - 2s 2s/step - batch: 0.0000e+00 - size: 5000.0000 - loss: 0.8717 - Grad__loss: 0.7617 - mul_loss: 0.0769 - P_loss: 0.0130 - sub_2_loss: 0.0121 - sub_4_loss: 0.0081 - add_7_loss: 1.9506e-34 - mul_12_loss: 0.0000e+00 - lr: 0.0010 - time: 1.9910\n",
      "Epoch 4/100\n",
      "1/1 [==============================] - 2s 2s/step - batch: 0.0000e+00 - size: 5000.0000 - loss: 0.8735 - Grad__loss: 0.7553 - mul_loss: 0.0772 - P_loss: 0.0185 - sub_2_loss: 0.0124 - sub_4_loss: 0.0100 - add_7_loss: 1.8624e-34 - mul_12_loss: 0.0000e+00 - lr: 0.0010 - time: 2.0100\n",
      "Epoch 5/100\n",
      "1/1 [==============================] - 2s 2s/step - batch: 0.0000e+00 - size: 5000.0000 - loss: 0.8721 - Grad__loss: 0.7473 - mul_loss: 0.0778 - P_loss: 0.0228 - sub_2_loss: 0.0128 - sub_4_loss: 0.0114 - add_7_loss: 1.7624e-34 - mul_12_loss: 0.0000e+00 - lr: 0.0010 - time: 2.0163\n",
      "Epoch 6/100\n",
      "1/1 [==============================] - 2s 2s/step - batch: 0.0000e+00 - size: 5000.0000 - loss: 0.8640 - Grad__loss: 0.7394 - mul_loss: 0.0785 - P_loss: 0.0211 - sub_2_loss: 0.0131 - sub_4_loss: 0.0118 - add_7_loss: 2.2970e-34 - mul_12_loss: 0.0000e+00 - lr: 0.0010 - time: 1.9670\n",
      "Epoch 7/100\n",
      "1/1 [==============================] - 2s 2s/step - batch: 0.0000e+00 - size: 5000.0000 - loss: 0.8532 - Grad__loss: 0.7321 - mul_loss: 0.0793 - P_loss: 0.0166 - sub_2_loss: 0.0135 - sub_4_loss: 0.0117 - add_7_loss: 2.2159e-34 - mul_12_loss: 0.0000e+00 - lr: 0.0010 - time: 1.9927\n",
      "Epoch 8/100\n",
      "1/1 [==============================] - 2s 2s/step - batch: 0.0000e+00 - size: 5000.0000 - loss: 0.8439 - Grad__loss: 0.7255 - mul_loss: 0.0801 - P_loss: 0.0127 - sub_2_loss: 0.0142 - sub_4_loss: 0.0114 - add_7_loss: 2.1330e-34 - mul_12_loss: 0.0000e+00 - lr: 0.0010 - time: 1.9145\n",
      "Epoch 9/100\n",
      "1/1 [==============================] - 2s 2s/step - batch: 0.0000e+00 - size: 5000.0000 - loss: 0.8379 - Grad__loss: 0.7193 - mul_loss: 0.0809 - P_loss: 0.0113 - sub_2_loss: 0.0151 - sub_4_loss: 0.0113 - add_7_loss: 2.7948e-34 - mul_12_loss: 0.0000e+00 - lr: 0.0010 - time: 2.0100\n",
      "Epoch 10/100\n",
      "1/1 [==============================] - 2s 2s/step - batch: 0.0000e+00 - size: 5000.0000 - loss: 0.8348 - Grad__loss: 0.7134 - mul_loss: 0.0816 - P_loss: 0.0121 - sub_2_loss: 0.0163 - sub_4_loss: 0.0114 - add_7_loss: 2.9049e-34 - mul_12_loss: 0.0000e+00 - lr: 0.0010 - time: 1.9948\n",
      "Epoch 11/100\n",
      "1/1 [==============================] - 2s 2s/step - batch: 0.0000e+00 - size: 5000.0000 - loss: 0.8326 - Grad__loss: 0.7076 - mul_loss: 0.0823 - P_loss: 0.0135 - sub_2_loss: 0.0175 - sub_4_loss: 0.0117 - add_7_loss: 2.8812e-34 - mul_12_loss: 0.0000e+00 - lr: 0.0010 - time: 1.9689\n",
      "Epoch 12/100\n",
      "1/1 [==============================] - 2s 2s/step - batch: 0.0000e+00 - size: 5000.0000 - loss: 0.8294 - Grad__loss: 0.7017 - mul_loss: 0.0828 - P_loss: 0.0142 - sub_2_loss: 0.0185 - sub_4_loss: 0.0121 - add_7_loss: 2.8192e-34 - mul_12_loss: 0.0000e+00 - lr: 0.0010 - time: 2.0273\n",
      "Epoch 13/100\n",
      "1/1 [==============================] - 2s 2s/step - batch: 0.0000e+00 - size: 5000.0000 - loss: 0.8247 - Grad__loss: 0.6958 - mul_loss: 0.0834 - P_loss: 0.0136 - sub_2_loss: 0.0194 - sub_4_loss: 0.0126 - add_7_loss: 3.3444e-34 - mul_12_loss: 0.0000e+00 - lr: 0.0010 - time: 1.9866\n",
      "Epoch 14/100\n",
      "1/1 [==============================] - 2s 2s/step - batch: 0.0000e+00 - size: 5000.0000 - loss: 0.8189 - Grad__loss: 0.6897 - mul_loss: 0.0838 - P_loss: 0.0122 - sub_2_loss: 0.0201 - sub_4_loss: 0.0131 - add_7_loss: 3.5631e-34 - mul_12_loss: 0.0000e+00 - lr: 0.0010 - time: 1.9221\n",
      "Epoch 15/100\n",
      "1/1 [==============================] - 2s 2s/step - batch: 0.0000e+00 - size: 5000.0000 - loss: 0.8130 - Grad__loss: 0.6837 - mul_loss: 0.0843 - P_loss: 0.0106 - sub_2_loss: 0.0207 - sub_4_loss: 0.0138 - add_7_loss: 3.5852e-34 - mul_12_loss: 0.0000e+00 - lr: 0.0010 - time: 2.0451\n",
      "Epoch 16/100\n",
      "1/1 [==============================] - 2s 2s/step - batch: 0.0000e+00 - size: 5000.0000 - loss: 0.8079 - Grad__loss: 0.6778 - mul_loss: 0.0847 - P_loss: 0.0095 - sub_2_loss: 0.0214 - sub_4_loss: 0.0146 - add_7_loss: 3.7151e-34 - mul_12_loss: 0.0000e+00 - lr: 0.0010 - time: 1.9685\n",
      "Epoch 17/100\n",
      "1/1 [==============================] - 2s 2s/step - batch: 0.0000e+00 - size: 5000.0000 - loss: 0.8038 - Grad__loss: 0.6721 - mul_loss: 0.0850 - P_loss: 0.0092 - sub_2_loss: 0.0220 - sub_4_loss: 0.0154 - add_7_loss: 4.1173e-34 - mul_12_loss: 0.0000e+00 - lr: 0.0010 - time: 1.9596\n",
      "Epoch 18/100\n",
      "1/1 [==============================] - 2s 2s/step - batch: 0.0000e+00 - size: 5000.0000 - loss: 0.8003 - Grad__loss: 0.6669 - mul_loss: 0.0853 - P_loss: 0.0097 - sub_2_loss: 0.0225 - sub_4_loss: 0.0160 - add_7_loss: 4.0449e-34 - mul_12_loss: 0.0000e+00 - lr: 0.0010 - time: 1.9245\n",
      "Epoch 19/100\n",
      "1/1 [==============================] - 2s 2s/step - batch: 0.0000e+00 - size: 5000.0000 - loss: 0.7969 - Grad__loss: 0.6621 - mul_loss: 0.0855 - P_loss: 0.0104 - sub_2_loss: 0.0229 - sub_4_loss: 0.0161 - add_7_loss: 3.9986e-34 - mul_12_loss: 0.0000e+00 - lr: 0.0010 - time: 2.0048\n",
      "Epoch 20/100\n",
      "1/1 [==============================] - 2s 2s/step - batch: 0.0000e+00 - size: 5000.0000 - loss: 0.7930 - Grad__loss: 0.6575 - mul_loss: 0.0857 - P_loss: 0.0109 - sub_2_loss: 0.0231 - sub_4_loss: 0.0158 - add_7_loss: 4.4512e-34 - mul_12_loss: 0.0000e+00 - lr: 0.0010 - time: 2.0299\n",
      "Epoch 21/100\n",
      "1/1 [==============================] - 2s 2s/step - batch: 0.0000e+00 - size: 5000.0000 - loss: 0.7885 - Grad__loss: 0.6528 - mul_loss: 0.0859 - P_loss: 0.0110 - sub_2_loss: 0.0234 - sub_4_loss: 0.0153 - add_7_loss: 4.2904e-34 - mul_12_loss: 0.0000e+00 - lr: 0.0010 - time: 2.0207\n",
      "Epoch 22/100\n",
      "1/1 [==============================] - 2s 2s/step - batch: 0.0000e+00 - size: 5000.0000 - loss: 0.7834 - Grad__loss: 0.6476 - mul_loss: 0.0863 - P_loss: 0.0106 - sub_2_loss: 0.0239 - sub_4_loss: 0.0150 - add_7_loss: 4.2251e-34 - mul_12_loss: 0.0000e+00 - lr: 0.0010 - time: 1.9157\n",
      "Epoch 23/100\n",
      "1/1 [==============================] - 2s 2s/step - batch: 0.0000e+00 - size: 5000.0000 - loss: 0.7781 - Grad__loss: 0.6416 - mul_loss: 0.0868 - P_loss: 0.0100 - sub_2_loss: 0.0246 - sub_4_loss: 0.0150 - add_7_loss: 5.5070e-34 - mul_12_loss: 0.0000e+00 - lr: 0.0010 - time: 2.0270\n",
      "Epoch 24/100\n",
      "1/1 [==============================] - 2s 2s/step - batch: 0.0000e+00 - size: 5000.0000 - loss: 0.7726 - Grad__loss: 0.6346 - mul_loss: 0.0875 - P_loss: 0.0095 - sub_2_loss: 0.0256 - sub_4_loss: 0.0155 - add_7_loss: 4.9350e-34 - mul_12_loss: 0.0000e+00 - lr: 0.0010 - time: 1.9824\n",
      "Epoch 25/100\n",
      "1/1 [==============================] - 2s 2s/step - batch: 0.0000e+00 - size: 5000.0000 - loss: 0.7671 - Grad__loss: 0.6265 - mul_loss: 0.0883 - P_loss: 0.0092 - sub_2_loss: 0.0267 - sub_4_loss: 0.0163 - add_7_loss: 5.1902e-34 - mul_12_loss: 0.0000e+00 - lr: 0.0010 - time: 1.9855\n",
      "Epoch 26/100\n",
      "1/1 [==============================] - 2s 2s/step - batch: 0.0000e+00 - size: 5000.0000 - loss: 0.7616 - Grad__loss: 0.6177 - mul_loss: 0.0893 - P_loss: 0.0092 - sub_2_loss: 0.0281 - sub_4_loss: 0.0174 - add_7_loss: 5.1258e-34 - mul_12_loss: 0.0000e+00 - lr: 0.0010 - time: 1.9754\n",
      "Epoch 27/100\n",
      "1/1 [==============================] - 2s 2s/step - batch: 0.0000e+00 - size: 5000.0000 - loss: 0.7561 - Grad__loss: 0.6085 - mul_loss: 0.0902 - P_loss: 0.0094 - sub_2_loss: 0.0295 - sub_4_loss: 0.0186 - add_7_loss: 6.1884e-34 - mul_12_loss: 0.0000e+00 - lr: 0.0010 - time: 1.9944\n",
      "Epoch 28/100\n",
      "1/1 [==============================] - 2s 2s/step - batch: 0.0000e+00 - size: 5000.0000 - loss: 0.7504 - Grad__loss: 0.5994 - mul_loss: 0.0911 - P_loss: 0.0095 - sub_2_loss: 0.0307 - sub_4_loss: 0.0197 - add_7_loss: 7.9977e-34 - mul_12_loss: 0.0000e+00 - lr: 0.0010 - time: 1.9440\n",
      "Epoch 29/100\n",
      "1/1 [==============================] - 2s 2s/step - batch: 0.0000e+00 - size: 5000.0000 - loss: 0.7441 - Grad__loss: 0.5908 - mul_loss: 0.0917 - P_loss: 0.0096 - sub_2_loss: 0.0317 - sub_4_loss: 0.0203 - add_7_loss: 7.5026e-34 - mul_12_loss: 0.0000e+00 - lr: 0.0010 - time: 1.9483\n",
      "Epoch 30/100\n",
      "1/1 [==============================] - 2s 2s/step - batch: 0.0000e+00 - size: 5000.0000 - loss: 0.7372 - Grad__loss: 0.5830 - mul_loss: 0.0922 - P_loss: 0.0094 - sub_2_loss: 0.0322 - sub_4_loss: 0.0204 - add_7_loss: 7.6910e-34 - mul_12_loss: 0.0000e+00 - lr: 0.0010 - time: 1.9122\n",
      "Epoch 31/100\n",
      "1/1 [==============================] - 2s 2s/step - batch: 0.0000e+00 - size: 5000.0000 - loss: 0.7298 - Grad__loss: 0.5757 - mul_loss: 0.0924 - P_loss: 0.0092 - sub_2_loss: 0.0323 - sub_4_loss: 0.0201 - add_7_loss: 7.9935e-34 - mul_12_loss: 0.0000e+00 - lr: 0.0010 - time: 1.8775\n",
      "Epoch 32/100\n",
      "1/1 [==============================] - 2s 2s/step - batch: 0.0000e+00 - size: 5000.0000 - loss: 0.7220 - Grad__loss: 0.5684 - mul_loss: 0.0927 - P_loss: 0.0090 - sub_2_loss: 0.0322 - sub_4_loss: 0.0198 - add_7_loss: 8.0123e-34 - mul_12_loss: 0.0000e+00 - lr: 0.0010 - time: 2.0092\n",
      "Epoch 33/100\n",
      "1/1 [==============================] - 2s 2s/step - batch: 0.0000e+00 - size: 5000.0000 - loss: 0.7141 - Grad__loss: 0.5603 - mul_loss: 0.0931 - P_loss: 0.0090 - sub_2_loss: 0.0319 - sub_4_loss: 0.0197 - add_7_loss: 8.0275e-34 - mul_12_loss: 0.0000e+00 - lr: 0.0010 - time: 1.9149\n",
      "Epoch 34/100\n",
      "1/1 [==============================] - 2s 2s/step - batch: 0.0000e+00 - size: 5000.0000 - loss: 0.7058 - Grad__loss: 0.5512 - mul_loss: 0.0937 - P_loss: 0.0091 - sub_2_loss: 0.0317 - sub_4_loss: 0.0201 - add_7_loss: 9.4322e-34 - mul_12_loss: 0.0000e+00 - lr: 0.0010 - time: 1.9766\n",
      "Epoch 35/100\n",
      "1/1 [==============================] - 2s 2s/step - batch: 0.0000e+00 - size: 5000.0000 - loss: 0.6971 - Grad__loss: 0.5409 - mul_loss: 0.0945 - P_loss: 0.0093 - sub_2_loss: 0.0316 - sub_4_loss: 0.0208 - add_7_loss: 1.0242e-33 - mul_12_loss: 0.0000e+00 - lr: 0.0010 - time: 1.9063\n",
      "Epoch 36/100\n",
      "1/1 [==============================] - 2s 2s/step - batch: 0.0000e+00 - size: 5000.0000 - loss: 0.6880 - Grad__loss: 0.5297 - mul_loss: 0.0954 - P_loss: 0.0094 - sub_2_loss: 0.0318 - sub_4_loss: 0.0217 - add_7_loss: 1.0436e-33 - mul_12_loss: 0.0000e+00 - lr: 0.0010 - time: 1.9771\n",
      "Epoch 37/100\n",
      "1/1 [==============================] - 2s 2s/step - batch: 0.0000e+00 - size: 5000.0000 - loss: 0.6782 - Grad__loss: 0.5181 - mul_loss: 0.0961 - P_loss: 0.0094 - sub_2_loss: 0.0321 - sub_4_loss: 0.0225 - add_7_loss: 1.2626e-33 - mul_12_loss: 0.0000e+00 - lr: 0.0010 - time: 2.0403\n",
      "Epoch 38/100\n",
      "1/1 [==============================] - 2s 2s/step - batch: 0.0000e+00 - size: 5000.0000 - loss: 0.6677 - Grad__loss: 0.5062 - mul_loss: 0.0966 - P_loss: 0.0093 - sub_2_loss: 0.0325 - sub_4_loss: 0.0231 - add_7_loss: 1.0688e-33 - mul_12_loss: 0.0000e+00 - lr: 0.0010 - time: 1.9697\n",
      "Epoch 39/100\n",
      "1/1 [==============================] - 2s 2s/step - batch: 0.0000e+00 - size: 5000.0000 - loss: 0.6567 - Grad__loss: 0.4939 - mul_loss: 0.0968 - P_loss: 0.0092 - sub_2_loss: 0.0331 - sub_4_loss: 0.0237 - add_7_loss: 1.1414e-33 - mul_12_loss: 0.0000e+00 - lr: 0.0010 - time: 2.0081\n",
      "Epoch 40/100\n",
      "1/1 [==============================] - 2s 2s/step - batch: 0.0000e+00 - size: 5000.0000 - loss: 0.6452 - Grad__loss: 0.4807 - mul_loss: 0.0971 - P_loss: 0.0091 - sub_2_loss: 0.0338 - sub_4_loss: 0.0246 - add_7_loss: 1.3301e-33 - mul_12_loss: 0.0000e+00 - lr: 0.0010 - time: 2.0473\n",
      "Epoch 41/100\n",
      "1/1 [==============================] - 2s 2s/step - batch: 0.0000e+00 - size: 5000.0000 - loss: 0.6332 - Grad__loss: 0.4665 - mul_loss: 0.0974 - P_loss: 0.0091 - sub_2_loss: 0.0345 - sub_4_loss: 0.0257 - add_7_loss: 1.4480e-33 - mul_12_loss: 0.0000e+00 - lr: 0.0010 - time: 2.0122\n",
      "Epoch 42/100\n",
      "1/1 [==============================] - 2s 2s/step - batch: 0.0000e+00 - size: 5000.0000 - loss: 0.6205 - Grad__loss: 0.4518 - mul_loss: 0.0977 - P_loss: 0.0091 - sub_2_loss: 0.0351 - sub_4_loss: 0.0269 - add_7_loss: 1.4404e-33 - mul_12_loss: 0.0000e+00 - lr: 0.0010 - time: 1.9822\n",
      "Epoch 43/100\n",
      "1/1 [==============================] - 2s 2s/step - batch: 0.0000e+00 - size: 5000.0000 - loss: 0.6073 - Grad__loss: 0.4374 - mul_loss: 0.0976 - P_loss: 0.0092 - sub_2_loss: 0.0355 - sub_4_loss: 0.0277 - add_7_loss: 1.6377e-33 - mul_12_loss: 0.0000e+00 - lr: 0.0010 - time: 1.9876\n",
      "Epoch 44/100\n",
      "1/1 [==============================] - 2s 2s/step - batch: 0.0000e+00 - size: 5000.0000 - loss: 0.5934 - Grad__loss: 0.4235 - mul_loss: 0.0970 - P_loss: 0.0092 - sub_2_loss: 0.0357 - sub_4_loss: 0.0280 - add_7_loss: 1.7932e-33 - mul_12_loss: 0.0000e+00 - lr: 0.0010 - time: 2.0084\n",
      "Epoch 45/100\n",
      "1/1 [==============================] - 2s 2s/step - batch: 0.0000e+00 - size: 5000.0000 - loss: 0.5790 - Grad__loss: 0.4094 - mul_loss: 0.0963 - P_loss: 0.0092 - sub_2_loss: 0.0360 - sub_4_loss: 0.0281 - add_7_loss: 1.7703e-33 - mul_12_loss: 0.0000e+00 - lr: 0.0010 - time: 2.0027\n",
      "Epoch 46/100\n",
      "1/1 [==============================] - 2s 2s/step - batch: 0.0000e+00 - size: 5000.0000 - loss: 0.5639 - Grad__loss: 0.3940 - mul_loss: 0.0957 - P_loss: 0.0091 - sub_2_loss: 0.0366 - sub_4_loss: 0.0285 - add_7_loss: 2.2032e-33 - mul_12_loss: 0.0000e+00 - lr: 0.0010 - time: 1.9910\n",
      "Epoch 47/100\n",
      "1/1 [==============================] - 2s 2s/step - batch: 0.0000e+00 - size: 5000.0000 - loss: 0.5483 - Grad__loss: 0.3774 - mul_loss: 0.0955 - P_loss: 0.0091 - sub_2_loss: 0.0373 - sub_4_loss: 0.0290 - add_7_loss: 2.1482e-33 - mul_12_loss: 0.0000e+00 - lr: 0.0010 - time: 2.0291\n",
      "Epoch 48/100\n",
      "1/1 [==============================] - 2s 2s/step - batch: 0.0000e+00 - size: 5000.0000 - loss: 0.5321 - Grad__loss: 0.3605 - mul_loss: 0.0954 - P_loss: 0.0091 - sub_2_loss: 0.0379 - sub_4_loss: 0.0292 - add_7_loss: 2.1254e-33 - mul_12_loss: 0.0000e+00 - lr: 0.0010 - time: 1.9878\n",
      "Epoch 49/100\n",
      "1/1 [==============================] - 2s 2s/step - batch: 0.0000e+00 - size: 5000.0000 - loss: 0.5155 - Grad__loss: 0.3440 - mul_loss: 0.0952 - P_loss: 0.0091 - sub_2_loss: 0.0382 - sub_4_loss: 0.0289 - add_7_loss: 2.1570e-33 - mul_12_loss: 0.0000e+00 - lr: 0.0010 - time: 2.0222\n",
      "Epoch 50/100\n",
      "1/1 [==============================] - 2s 2s/step - batch: 0.0000e+00 - size: 5000.0000 - loss: 0.4986 - Grad__loss: 0.3276 - mul_loss: 0.0950 - P_loss: 0.0092 - sub_2_loss: 0.0385 - sub_4_loss: 0.0282 - add_7_loss: 2.3948e-33 - mul_12_loss: 0.0000e+00 - lr: 0.0010 - time: 2.0460\n",
      "Epoch 51/100\n",
      "1/1 [==============================] - 2s 2s/step - batch: 0.0000e+00 - size: 5000.0000 - loss: 0.4814 - Grad__loss: 0.3113 - mul_loss: 0.0947 - P_loss: 0.0092 - sub_2_loss: 0.0388 - sub_4_loss: 0.0273 - add_7_loss: 2.4160e-33 - mul_12_loss: 0.0000e+00 - lr: 0.0010 - time: 2.0250\n",
      "Epoch 52/100\n",
      "1/1 [==============================] - 2s 2s/step - batch: 0.0000e+00 - size: 5000.0000 - loss: 0.4643 - Grad__loss: 0.2958 - mul_loss: 0.0945 - P_loss: 0.0093 - sub_2_loss: 0.0389 - sub_4_loss: 0.0259 - add_7_loss: 2.8081e-33 - mul_12_loss: 0.0000e+00 - lr: 0.0010 - time: 1.9967\n",
      "Epoch 53/100\n",
      "1/1 [==============================] - 2s 2s/step - batch: 0.0000e+00 - size: 5000.0000 - loss: 0.4473 - Grad__loss: 0.2816 - mul_loss: 0.0941 - P_loss: 0.0092 - sub_2_loss: 0.0383 - sub_4_loss: 0.0241 - add_7_loss: 2.8573e-33 - mul_12_loss: 0.0000e+00 - lr: 0.0010 - time: 2.0003\n",
      "Epoch 54/100\n",
      "1/1 [==============================] - 2s 2s/step - batch: 0.0000e+00 - size: 5000.0000 - loss: 0.4310 - Grad__loss: 0.2685 - mul_loss: 0.0938 - P_loss: 0.0092 - sub_2_loss: 0.0373 - sub_4_loss: 0.0221 - add_7_loss: 2.6863e-33 - mul_12_loss: 0.0000e+00 - lr: 0.0010 - time: 2.0684\n",
      "Epoch 55/100\n",
      "1/1 [==============================] - 2s 2s/step - batch: 0.0000e+00 - size: 5000.0000 - loss: 0.4154 - Grad__loss: 0.2559 - mul_loss: 0.0935 - P_loss: 0.0092 - sub_2_loss: 0.0366 - sub_4_loss: 0.0202 - add_7_loss: 3.1265e-33 - mul_12_loss: 0.0000e+00 - lr: 0.0010 - time: 1.9520\n",
      "Epoch 56/100\n",
      "1/1 [==============================] - 2s 2s/step - batch: 0.0000e+00 - size: 5000.0000 - loss: 0.4007 - Grad__loss: 0.2440 - mul_loss: 0.0932 - P_loss: 0.0093 - sub_2_loss: 0.0359 - sub_4_loss: 0.0184 - add_7_loss: 3.2081e-33 - mul_12_loss: 0.0000e+00 - lr: 0.0010 - time: 1.9884\n",
      "Epoch 57/100\n",
      "1/1 [==============================] - 2s 2s/step - batch: 0.0000e+00 - size: 5000.0000 - loss: 0.3872 - Grad__loss: 0.2333 - mul_loss: 0.0929 - P_loss: 0.0093 - sub_2_loss: 0.0350 - sub_4_loss: 0.0168 - add_7_loss: 3.3123e-33 - mul_12_loss: 0.0000e+00 - lr: 0.0010 - time: 2.0016\n",
      "Epoch 58/100\n",
      "1/1 [==============================] - 2s 2s/step - batch: 0.0000e+00 - size: 5000.0000 - loss: 0.3747 - Grad__loss: 0.2237 - mul_loss: 0.0926 - P_loss: 0.0093 - sub_2_loss: 0.0337 - sub_4_loss: 0.0153 - add_7_loss: 3.1410e-33 - mul_12_loss: 0.0000e+00 - lr: 0.0010 - time: 2.0510\n",
      "Epoch 59/100\n",
      "1/1 [==============================] - 2s 2s/step - batch: 0.0000e+00 - size: 5000.0000 - loss: 0.3632 - Grad__loss: 0.2150 - mul_loss: 0.0923 - P_loss: 0.0093 - sub_2_loss: 0.0325 - sub_4_loss: 0.0141 - add_7_loss: 3.5161e-33 - mul_12_loss: 0.0000e+00 - lr: 0.0010 - time: 1.9889\n",
      "Epoch 60/100\n",
      "1/1 [==============================] - 2s 2s/step - batch: 0.0000e+00 - size: 5000.0000 - loss: 0.3526 - Grad__loss: 0.2071 - mul_loss: 0.0919 - P_loss: 0.0094 - sub_2_loss: 0.0313 - sub_4_loss: 0.0130 - add_7_loss: 3.6632e-33 - mul_12_loss: 0.0000e+00 - lr: 0.0010 - time: 1.9893\n",
      "Epoch 61/100\n",
      "1/1 [==============================] - 2s 2s/step - batch: 0.0000e+00 - size: 5000.0000 - loss: 0.3429 - Grad__loss: 0.2002 - mul_loss: 0.0915 - P_loss: 0.0094 - sub_2_loss: 0.0298 - sub_4_loss: 0.0120 - add_7_loss: 3.4515e-33 - mul_12_loss: 0.0000e+00 - lr: 0.0010 - time: 1.9481\n",
      "Epoch 62/100\n",
      "1/1 [==============================] - 2s 2s/step - batch: 0.0000e+00 - size: 5000.0000 - loss: 0.3339 - Grad__loss: 0.1940 - mul_loss: 0.0910 - P_loss: 0.0095 - sub_2_loss: 0.0283 - sub_4_loss: 0.0112 - add_7_loss: 3.3339e-33 - mul_12_loss: 0.0000e+00 - lr: 0.0010 - time: 2.0227\n",
      "Epoch 63/100\n",
      "1/1 [==============================] - 2s 2s/step - batch: 0.0000e+00 - size: 5000.0000 - loss: 0.3256 - Grad__loss: 0.1883 - mul_loss: 0.0906 - P_loss: 0.0095 - sub_2_loss: 0.0269 - sub_4_loss: 0.0103 - add_7_loss: 3.5656e-33 - mul_12_loss: 0.0000e+00 - lr: 0.0010 - time: 1.9762\n",
      "Epoch 64/100\n",
      "1/1 [==============================] - 2s 2s/step - batch: 0.0000e+00 - size: 5000.0000 - loss: 0.3180 - Grad__loss: 0.1830 - mul_loss: 0.0901 - P_loss: 0.0096 - sub_2_loss: 0.0258 - sub_4_loss: 0.0096 - add_7_loss: 3.2203e-33 - mul_12_loss: 0.0000e+00 - lr: 0.0010 - time: 1.9967\n",
      "Epoch 65/100\n",
      "1/1 [==============================] - 2s 2s/step - batch: 0.0000e+00 - size: 5000.0000 - loss: 0.3110 - Grad__loss: 0.1781 - mul_loss: 0.0896 - P_loss: 0.0096 - sub_2_loss: 0.0247 - sub_4_loss: 0.0090 - add_7_loss: 3.0524e-33 - mul_12_loss: 0.0000e+00 - lr: 0.0010 - time: 2.0237\n",
      "Epoch 66/100\n",
      "1/1 [==============================] - 2s 2s/step - batch: 0.0000e+00 - size: 5000.0000 - loss: 0.3047 - Grad__loss: 0.1735 - mul_loss: 0.0891 - P_loss: 0.0097 - sub_2_loss: 0.0238 - sub_4_loss: 0.0085 - add_7_loss: 3.1148e-33 - mul_12_loss: 0.0000e+00 - lr: 0.0010 - time: 2.0822\n",
      "Epoch 67/100\n",
      "1/1 [==============================] - 2s 2s/step - batch: 0.0000e+00 - size: 5000.0000 - loss: 0.2988 - Grad__loss: 0.1689 - mul_loss: 0.0888 - P_loss: 0.0097 - sub_2_loss: 0.0232 - sub_4_loss: 0.0082 - add_7_loss: 2.7016e-33 - mul_12_loss: 0.0000e+00 - lr: 0.0010 - time: 2.0073\n",
      "Epoch 68/100\n",
      "1/1 [==============================] - 2s 2s/step - batch: 0.0000e+00 - size: 5000.0000 - loss: 0.2935 - Grad__loss: 0.1643 - mul_loss: 0.0885 - P_loss: 0.0097 - sub_2_loss: 0.0229 - sub_4_loss: 0.0081 - add_7_loss: 2.9488e-33 - mul_12_loss: 0.0000e+00 - lr: 0.0010 - time: 1.9774\n",
      "Epoch 69/100\n",
      "1/1 [==============================] - 2s 2s/step - batch: 0.0000e+00 - size: 5000.0000 - loss: 0.2885 - Grad__loss: 0.1598 - mul_loss: 0.0882 - P_loss: 0.0098 - sub_2_loss: 0.0228 - sub_4_loss: 0.0080 - add_7_loss: 2.8731e-33 - mul_12_loss: 0.0000e+00 - lr: 0.0010 - time: 1.9000\n",
      "Epoch 70/100\n",
      "1/1 [==============================] - 2s 2s/step - batch: 0.0000e+00 - size: 5000.0000 - loss: 0.2839 - Grad__loss: 0.1556 - mul_loss: 0.0880 - P_loss: 0.0098 - sub_2_loss: 0.0227 - sub_4_loss: 0.0079 - add_7_loss: 3.0103e-33 - mul_12_loss: 0.0000e+00 - lr: 0.0010 - time: 1.9601\n",
      "Epoch 71/100\n",
      "1/1 [==============================] - 2s 2s/step - batch: 0.0000e+00 - size: 5000.0000 - loss: 0.2796 - Grad__loss: 0.1516 - mul_loss: 0.0878 - P_loss: 0.0098 - sub_2_loss: 0.0226 - sub_4_loss: 0.0078 - add_7_loss: 2.8860e-33 - mul_12_loss: 0.0000e+00 - lr: 0.0010 - time: 1.9213\n",
      "Epoch 72/100\n",
      "1/1 [==============================] - 2s 2s/step - batch: 0.0000e+00 - size: 5000.0000 - loss: 0.2755 - Grad__loss: 0.1480 - mul_loss: 0.0876 - P_loss: 0.0097 - sub_2_loss: 0.0226 - sub_4_loss: 0.0077 - add_7_loss: 2.9915e-33 - mul_12_loss: 0.0000e+00 - lr: 0.0010 - time: 2.0201\n",
      "Epoch 73/100\n",
      "1/1 [==============================] - 2s 2s/step - batch: 0.0000e+00 - size: 5000.0000 - loss: 0.2714 - Grad__loss: 0.1447 - mul_loss: 0.0873 - P_loss: 0.0097 - sub_2_loss: 0.0223 - sub_4_loss: 0.0074 - add_7_loss: 2.9608e-33 - mul_12_loss: 0.0000e+00 - lr: 0.0010 - time: 1.9757\n",
      "Epoch 74/100\n",
      "1/1 [==============================] - 2s 2s/step - batch: 0.0000e+00 - size: 5000.0000 - loss: 0.2675 - Grad__loss: 0.1418 - mul_loss: 0.0870 - P_loss: 0.0097 - sub_2_loss: 0.0218 - sub_4_loss: 0.0072 - add_7_loss: 2.6206e-33 - mul_12_loss: 0.0000e+00 - lr: 0.0010 - time: 2.0453\n",
      "Epoch 75/100\n",
      "1/1 [==============================] - 2s 2s/step - batch: 0.0000e+00 - size: 5000.0000 - loss: 0.2636 - Grad__loss: 0.1392 - mul_loss: 0.0866 - P_loss: 0.0097 - sub_2_loss: 0.0212 - sub_4_loss: 0.0069 - add_7_loss: 2.8158e-33 - mul_12_loss: 0.0000e+00 - lr: 0.0010 - time: 1.9720\n",
      "Epoch 76/100\n",
      "1/1 [==============================] - 2s 2s/step - batch: 0.0000e+00 - size: 5000.0000 - loss: 0.2598 - Grad__loss: 0.1367 - mul_loss: 0.0862 - P_loss: 0.0096 - sub_2_loss: 0.0206 - sub_4_loss: 0.0067 - add_7_loss: 2.5971e-33 - mul_12_loss: 0.0000e+00 - lr: 0.0010 - time: 1.9971\n",
      "Epoch 77/100\n",
      "1/1 [==============================] - 2s 2s/step - batch: 0.0000e+00 - size: 5000.0000 - loss: 0.2561 - Grad__loss: 0.1343 - mul_loss: 0.0857 - P_loss: 0.0096 - sub_2_loss: 0.0200 - sub_4_loss: 0.0065 - add_7_loss: 2.5346e-33 - mul_12_loss: 0.0000e+00 - lr: 0.0010 - time: 1.9800\n",
      "Epoch 78/100\n",
      "1/1 [==============================] - 2s 2s/step - batch: 0.0000e+00 - size: 5000.0000 - loss: 0.2525 - Grad__loss: 0.1319 - mul_loss: 0.0852 - P_loss: 0.0096 - sub_2_loss: 0.0195 - sub_4_loss: 0.0063 - add_7_loss: 2.7332e-33 - mul_12_loss: 0.0000e+00 - lr: 0.0010 - time: 1.9561\n",
      "Epoch 79/100\n",
      "1/1 [==============================] - 2s 2s/step - batch: 0.0000e+00 - size: 5000.0000 - loss: 0.2490 - Grad__loss: 0.1295 - mul_loss: 0.0848 - P_loss: 0.0095 - sub_2_loss: 0.0191 - sub_4_loss: 0.0062 - add_7_loss: 2.4236e-33 - mul_12_loss: 0.0000e+00 - lr: 0.0010 - time: 1.9399\n",
      "Epoch 80/100\n",
      "1/1 [==============================] - 2s 2s/step - batch: 0.0000e+00 - size: 5000.0000 - loss: 0.2456 - Grad__loss: 0.1271 - mul_loss: 0.0843 - P_loss: 0.0095 - sub_2_loss: 0.0187 - sub_4_loss: 0.0060 - add_7_loss: 2.4121e-33 - mul_12_loss: 0.0000e+00 - lr: 0.0010 - time: 2.0518\n",
      "Epoch 81/100\n",
      "1/1 [==============================] - 2s 2s/step - batch: 0.0000e+00 - size: 5000.0000 - loss: 0.2422 - Grad__loss: 0.1247 - mul_loss: 0.0839 - P_loss: 0.0095 - sub_2_loss: 0.0183 - sub_4_loss: 0.0058 - add_7_loss: 2.4708e-33 - mul_12_loss: 0.0000e+00 - lr: 0.0010 - time: 2.0086\n",
      "Epoch 82/100\n",
      "1/1 [==============================] - 2s 2s/step - batch: 0.0000e+00 - size: 5000.0000 - loss: 0.2390 - Grad__loss: 0.1224 - mul_loss: 0.0835 - P_loss: 0.0094 - sub_2_loss: 0.0180 - sub_4_loss: 0.0056 - add_7_loss: 2.7278e-33 - mul_12_loss: 0.0000e+00 - lr: 0.0010 - time: 2.0192\n",
      "Epoch 83/100\n",
      "1/1 [==============================] - 2s 2s/step - batch: 0.0000e+00 - size: 5000.0000 - loss: 0.2358 - Grad__loss: 0.1202 - mul_loss: 0.0831 - P_loss: 0.0094 - sub_2_loss: 0.0177 - sub_4_loss: 0.0054 - add_7_loss: 2.2936e-33 - mul_12_loss: 0.0000e+00 - lr: 0.0010 - time: 1.9447\n",
      "Epoch 84/100\n",
      "1/1 [==============================] - 2s 2s/step - batch: 0.0000e+00 - size: 5000.0000 - loss: 0.2328 - Grad__loss: 0.1181 - mul_loss: 0.0827 - P_loss: 0.0094 - sub_2_loss: 0.0174 - sub_4_loss: 0.0053 - add_7_loss: 2.3726e-33 - mul_12_loss: 0.0000e+00 - lr: 0.0010 - time: 2.0136\n",
      "Epoch 85/100\n",
      "1/1 [==============================] - 2s 2s/step - batch: 0.0000e+00 - size: 5000.0000 - loss: 0.2300 - Grad__loss: 0.1160 - mul_loss: 0.0823 - P_loss: 0.0094 - sub_2_loss: 0.0171 - sub_4_loss: 0.0051 - add_7_loss: 2.7585e-33 - mul_12_loss: 0.0000e+00 - lr: 0.0010 - time: 2.0350\n",
      "Epoch 86/100\n",
      "1/1 [==============================] - 2s 2s/step - batch: 0.0000e+00 - size: 5000.0000 - loss: 0.2272 - Grad__loss: 0.1139 - mul_loss: 0.0819 - P_loss: 0.0094 - sub_2_loss: 0.0169 - sub_4_loss: 0.0050 - add_7_loss: 2.6487e-33 - mul_12_loss: 0.0000e+00 - lr: 0.0010 - time: 1.9725\n",
      "Epoch 87/100\n",
      "1/1 [==============================] - 2s 2s/step - batch: 0.0000e+00 - size: 5000.0000 - loss: 0.2246 - Grad__loss: 0.1119 - mul_loss: 0.0816 - P_loss: 0.0094 - sub_2_loss: 0.0168 - sub_4_loss: 0.0050 - add_7_loss: 2.5866e-33 - mul_12_loss: 0.0000e+00 - lr: 0.0010 - time: 1.9710\n",
      "Epoch 88/100\n",
      "1/1 [==============================] - 2s 2s/step - batch: 0.0000e+00 - size: 5000.0000 - loss: 0.2220 - Grad__loss: 0.1099 - mul_loss: 0.0812 - P_loss: 0.0093 - sub_2_loss: 0.0166 - sub_4_loss: 0.0049 - add_7_loss: 2.5511e-33 - mul_12_loss: 0.0000e+00 - lr: 0.0010 - time: 2.0331\n",
      "Epoch 89/100\n",
      "1/1 [==============================] - 2s 2s/step - batch: 0.0000e+00 - size: 5000.0000 - loss: 0.2196 - Grad__loss: 0.1080 - mul_loss: 0.0809 - P_loss: 0.0093 - sub_2_loss: 0.0165 - sub_4_loss: 0.0048 - add_7_loss: 2.5736e-33 - mul_12_loss: 0.0000e+00 - lr: 0.0010 - time: 2.0649\n",
      "Epoch 90/100\n",
      "1/1 [==============================] - 2s 2s/step - batch: 0.0000e+00 - size: 5000.0000 - loss: 0.2172 - Grad__loss: 0.1061 - mul_loss: 0.0806 - P_loss: 0.0093 - sub_2_loss: 0.0165 - sub_4_loss: 0.0047 - add_7_loss: 2.8452e-33 - mul_12_loss: 0.0000e+00 - lr: 0.0010 - time: 2.0233\n",
      "Epoch 91/100\n",
      "1/1 [==============================] - 2s 2s/step - batch: 0.0000e+00 - size: 5000.0000 - loss: 0.2150 - Grad__loss: 0.1042 - mul_loss: 0.0804 - P_loss: 0.0093 - sub_2_loss: 0.0165 - sub_4_loss: 0.0047 - add_7_loss: 2.4400e-33 - mul_12_loss: 0.0000e+00 - lr: 0.0010 - time: 1.9702\n",
      "Epoch 92/100\n",
      "1/1 [==============================] - 2s 2s/step - batch: 0.0000e+00 - size: 5000.0000 - loss: 0.2128 - Grad__loss: 0.1024 - mul_loss: 0.0801 - P_loss: 0.0093 - sub_2_loss: 0.0165 - sub_4_loss: 0.0046 - add_7_loss: 2.8534e-33 - mul_12_loss: 0.0000e+00 - lr: 0.0010 - time: 2.0110\n",
      "Epoch 93/100\n",
      "1/1 [==============================] - 2s 2s/step - batch: 0.0000e+00 - size: 5000.0000 - loss: 0.2108 - Grad__loss: 0.1007 - mul_loss: 0.0799 - P_loss: 0.0092 - sub_2_loss: 0.0165 - sub_4_loss: 0.0045 - add_7_loss: 2.8859e-33 - mul_12_loss: 0.0000e+00 - lr: 0.0010 - time: 2.0071\n",
      "Epoch 94/100\n",
      "1/1 [==============================] - 2s 2s/step - batch: 0.0000e+00 - size: 5000.0000 - loss: 0.2088 - Grad__loss: 0.0991 - mul_loss: 0.0797 - P_loss: 0.0092 - sub_2_loss: 0.0164 - sub_4_loss: 0.0044 - add_7_loss: 2.9409e-33 - mul_12_loss: 0.0000e+00 - lr: 0.0010 - time: 1.9683\n",
      "Epoch 95/100\n",
      "1/1 [==============================] - 2s 2s/step - batch: 0.0000e+00 - size: 5000.0000 - loss: 0.2070 - Grad__loss: 0.0975 - mul_loss: 0.0794 - P_loss: 0.0092 - sub_2_loss: 0.0164 - sub_4_loss: 0.0044 - add_7_loss: 2.7179e-33 - mul_12_loss: 0.0000e+00 - lr: 0.0010 - time: 2.0782\n",
      "Epoch 96/100\n",
      "1/1 [==============================] - 2s 2s/step - batch: 0.0000e+00 - size: 5000.0000 - loss: 0.2052 - Grad__loss: 0.0961 - mul_loss: 0.0792 - P_loss: 0.0091 - sub_2_loss: 0.0164 - sub_4_loss: 0.0043 - add_7_loss: 2.9562e-33 - mul_12_loss: 0.0000e+00 - lr: 0.0010 - time: 2.0033\n",
      "Epoch 97/100\n",
      "1/1 [==============================] - 2s 2s/step - batch: 0.0000e+00 - size: 5000.0000 - loss: 0.2035 - Grad__loss: 0.0947 - mul_loss: 0.0790 - P_loss: 0.0091 - sub_2_loss: 0.0165 - sub_4_loss: 0.0043 - add_7_loss: 2.8724e-33 - mul_12_loss: 0.0000e+00 - lr: 0.0010 - time: 2.0716\n",
      "Epoch 98/100\n",
      "1/1 [==============================] - 2s 2s/step - batch: 0.0000e+00 - size: 5000.0000 - loss: 0.2019 - Grad__loss: 0.0934 - mul_loss: 0.0788 - P_loss: 0.0090 - sub_2_loss: 0.0165 - sub_4_loss: 0.0042 - add_7_loss: 2.9476e-33 - mul_12_loss: 0.0000e+00 - lr: 0.0010 - time: 1.9824\n",
      "Epoch 99/100\n",
      "1/1 [==============================] - 2s 2s/step - batch: 0.0000e+00 - size: 5000.0000 - loss: 0.2003 - Grad__loss: 0.0921 - mul_loss: 0.0786 - P_loss: 0.0090 - sub_2_loss: 0.0164 - sub_4_loss: 0.0042 - add_7_loss: 2.9225e-33 - mul_12_loss: 0.0000e+00 - lr: 0.0010 - time: 1.9699\n",
      "Epoch 100/100\n",
      "1/1 [==============================] - 2s 2s/step - batch: 0.0000e+00 - size: 5000.0000 - loss: 0.1988 - Grad__loss: 0.0910 - mul_loss: 0.0784 - P_loss: 0.0090 - sub_2_loss: 0.0164 - sub_4_loss: 0.0041 - add_7_loss: 2.9393e-33 - mul_12_loss: 0.0000e+00 - lr: 0.0010 - time: 2.0121\n"
     ]
    }
   ],
   "source": [
    "##input\n",
    "input_data = [x_train, y_train, t_train]\n",
    "\n",
    "##target\n",
    "data_d1 = u_train\n",
    "data_d2 = v_train\n",
    "data_d3 = p_train\n",
    "data_c1 = 'zeros'\n",
    "data_c2 = 'zeros'\n",
    "data_c3 = 'zeros'\n",
    "data_c4 = 'zeros'\n",
    "target_data = [data_d1, data_d2, data_d3, data_c1, data_c2, data_c3, data_c4]\n",
    "\n",
    "##训练\n",
    "history = model.train(\n",
    "    x_true=input_data,\n",
    "    y_true=target_data,\n",
    "    epochs=10000,\n",
    "    batch_size=100,\n",
    "    shuffle=True,\n",
    "    learning_rate=0.001,\n",
    "    reduce_lr_after=100,\n",
    "    stop_loss_value=1e-8,\n",
    "    verbose=1\n",
    ")\n",
    "\n",
    "model.save_weights('trained-navier-stokes.hdf5')"
   ]
  },
  {
   "cell_type": "code",
   "execution_count": 10,
   "metadata": {},
   "outputs": [
    {
     "name": "stdout",
     "output_type": "stream",
     "text": [
      "lambda1: [0.28351739],  lambda2: [0.87735609]\n"
     ]
    }
   ],
   "source": [
    "print(\"lambda1: {},  lambda2: {}\".format(lambda1.value, lambda2.value))"
   ]
  },
  {
   "cell_type": "code",
   "execution_count": 12,
   "metadata": {},
   "outputs": [
    {
     "data": {
      "text/plain": [
       "Text(0, 0.5, 'loss')"
      ]
     },
     "execution_count": 12,
     "metadata": {},
     "output_type": "execute_result"
    },
    {
     "data": {
      "image/png": "[encoded data removed]",
      "text/plain": [
       "<Figure size 640x480 with 1 Axes>"
      ]
     },
     "metadata": {},
     "output_type": "display_data"
    }
   ],
   "source": [
    "import matplotlib.pyplot as plt\n",
    "\n",
    "plt.semilogy(history.history['loss'])\n",
    "plt.xlabel('epochs')\n",
    "plt.ylabel('loss')"
   ]
  },
  {
   "cell_type": "code",
   "execution_count": null,
   "metadata": {},
   "outputs": [],
   "source": []
  }
 ],
 "metadata": {
  "kernelspec": {
   "display_name": "Python 3 (ipykernel)",
   "language": "python",
   "name": "python3"
  },
  "language_info": {
   "codemirror_mode": {
    "name": "ipython",
    "version": 3
   },
   "file_extension": ".py",
   "mimetype": "text/x-python",
   "name": "python",
   "nbconvert_exporter": "python",
   "pygments_lexer": "ipython3",
   "version": "3.8.18"
  }
 },
 "nbformat": 4,
 "nbformat_minor": 4
}
